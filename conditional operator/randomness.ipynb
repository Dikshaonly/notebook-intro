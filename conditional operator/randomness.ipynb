{
 "cells": [
  {
   "cell_type": "code",
   "execution_count": 2,
   "metadata": {},
   "outputs": [
    {
     "name": "stdout",
     "output_type": "stream",
     "text": [
      "Random number from 0 to 1: 0.6914982237960596\n",
      "Random Integer from 0 to 10: 8\n",
      "Random nimber from 1 to 3: One\n"
     ]
    }
   ],
   "source": [
    "import random\n",
    "print('Random number from 0 to 1:',random.random())\n",
    "print('Random Integer from 0 to 10:',random.randint(1,10))\n",
    "print('Random nimber from 1 to 3:',random.choice([\"One\",\"Two\",\"Three\"]))"
   ]
  }
 ],
 "metadata": {
  "kernelspec": {
   "display_name": "Python 3",
   "language": "python",
   "name": "python3"
  },
  "language_info": {
   "codemirror_mode": {
    "name": "ipython",
    "version": 3
   },
   "file_extension": ".py",
   "mimetype": "text/x-python",
   "name": "python",
   "nbconvert_exporter": "python",
   "pygments_lexer": "ipython3",
   "version": "3.11.8"
  },
  "orig_nbformat": 4,
  "vscode": {
   "interpreter": {
    "hash": "aee8b7b246df8f9039afb4144a1f6fd8d2ca17a180786b69acc140d282b71a49"
   }
  }
 },
 "nbformat": 4,
 "nbformat_minor": 2
}
