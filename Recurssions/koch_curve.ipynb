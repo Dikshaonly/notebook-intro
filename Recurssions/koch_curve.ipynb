{
 "cells": [
  {
   "cell_type": "code",
   "execution_count": 5,
   "metadata": {},
   "outputs": [
    {
     "ename": "",
     "evalue": "",
     "output_type": "error",
     "traceback": [
      "\u001b[1;31mThe Kernel crashed while executing code in the the current cell or a previous cell. Please review the code in the cell(s) to identify a possible cause of the failure. Click <a href='https://aka.ms/vscodeJupyterKernelCrash'>here</a> for more info. View Jupyter <a href='command:jupyter.viewOutput'>log</a> for further details."
     ]
    }
   ],
   "source": [
    "import turtle\n",
    "t = turtle.Turtle()\n",
    "def koch_curve(n,x):\n",
    "    if n==0:\n",
    "        turtle.forward(x)\n",
    "    else:\n",
    "        koch_curve(n-1,x/3)\n",
    "        turtle.left(60)\n",
    "        koch_curve(n-1,x/3)\n",
    "        turtle.right(120)\n",
    "        koch_curve(n-1,x/3)\n",
    "        turtle.left(60)\n",
    "        koch_curve(n-1,x/3)\n",
    "def koch_snowflake(n,x):\n",
    "    for _ in range(3):\n",
    "        koch_curve(n,x)\n",
    "        turtle.right(120)\n",
    "koch_snowflake(3,100)\n",
    "\n"
   ]
  }
 ],
 "metadata": {
  "kernelspec": {
   "display_name": "Python 3",
   "language": "python",
   "name": "python3"
  },
  "language_info": {
   "codemirror_mode": {
    "name": "ipython",
    "version": 3
   },
   "file_extension": ".py",
   "mimetype": "text/x-python",
   "name": "python",
   "nbconvert_exporter": "python",
   "pygments_lexer": "ipython3",
   "version": "3.11.8 (v3.11.8:db85d51d3e, Feb  6 2024, 18:02:37) [Clang 13.0.0 (clang-1300.0.29.30)]"
  },
  "orig_nbformat": 4,
  "vscode": {
   "interpreter": {
    "hash": "aee8b7b246df8f9039afb4144a1f6fd8d2ca17a180786b69acc140d282b71a49"
   }
  }
 },
 "nbformat": 4,
 "nbformat_minor": 2
}
