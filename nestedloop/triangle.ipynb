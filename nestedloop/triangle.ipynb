{
 "cells": [
  {
   "cell_type": "code",
   "execution_count": 1,
   "metadata": {},
   "outputs": [
    {
     "ename": "AttributeError",
     "evalue": "module 'turtle' has no attribute 'point'",
     "output_type": "error",
     "traceback": [
      "\u001b[0;31m---------------------------------------------------------------------------\u001b[0m",
      "\u001b[0;31mAttributeError\u001b[0m                            Traceback (most recent call last)",
      "Cell \u001b[0;32mIn[1], line 11\u001b[0m\n\u001b[1;32m      9\u001b[0m     x \u001b[39m=\u001b[39m (x\u001b[39m+\u001b[39mvx)\u001b[39m/\u001b[39m\u001b[39m2\u001b[39m\n\u001b[1;32m     10\u001b[0m     y \u001b[39m=\u001b[39m (y\u001b[39m+\u001b[39mvy)\u001b[39m/\u001b[39m\u001b[39m2\u001b[39m\n\u001b[0;32m---> 11\u001b[0m     turtle\u001b[39m.\u001b[39;49mpoint((x,y),pointstyle\u001b[39m=\u001b[39m\u001b[39m'\u001b[39m\u001b[39m,\u001b[39m\u001b[39m'\u001b[39m)\n\u001b[1;32m     12\u001b[0m turtle\u001b[39m.\u001b[39mdone()\n",
      "\u001b[0;31mAttributeError\u001b[0m: module 'turtle' has no attribute 'point'"
     ]
    },
    {
     "ename": "",
     "evalue": "",
     "output_type": "error",
     "traceback": [
      "\u001b[1;31mThe Kernel crashed while executing code in the the current cell or a previous cell. Please review the code in the cell(s) to identify a possible cause of the failure. Click <a href='https://aka.ms/vscodeJupyterKernelCrash'>here</a> for more info. View Jupyter <a href='command:jupyter.viewOutput'>log</a> for further details."
     ]
    }
   ],
   "source": [
    "vertices = [(0,00),(100,0),(50,100)]\n",
    "import random\n",
    "import turtle\n",
    "t=turtle.Turtle()\n",
    "\n",
    "x,y = 150,150\n",
    "for _ in range(3000):\n",
    "    vx, vy = random.choice(vertices)\n",
    "    x = (x+vx)/2\n",
    "    y = (y+vy)/2\n",
    "    turtle.point((x,y),pointstyle=',')\n",
    "turtle.done()"
   ]
  }
 ],
 "metadata": {
  "kernelspec": {
   "display_name": "Python 3",
   "language": "python",
   "name": "python3"
  },
  "language_info": {
   "codemirror_mode": {
    "name": "ipython",
    "version": 3
   },
   "file_extension": ".py",
   "mimetype": "text/x-python",
   "name": "python",
   "nbconvert_exporter": "python",
   "pygments_lexer": "ipython3",
   "version": "3.11.8 (v3.11.8:db85d51d3e, Feb  6 2024, 18:02:37) [Clang 13.0.0 (clang-1300.0.29.30)]"
  },
  "orig_nbformat": 4,
  "vscode": {
   "interpreter": {
    "hash": "aee8b7b246df8f9039afb4144a1f6fd8d2ca17a180786b69acc140d282b71a49"
   }
  }
 },
 "nbformat": 4,
 "nbformat_minor": 2
}
