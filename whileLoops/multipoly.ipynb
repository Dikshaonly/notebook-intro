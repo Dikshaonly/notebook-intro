{
 "cells": [
  {
   "cell_type": "code",
   "execution_count": 1,
   "metadata": {},
   "outputs": [],
   "source": [
    "import turtle\n",
    "t=turtle.Turtle()\n",
    "def poly(n,x):\n",
    "    angle = 360/n\n",
    "    for _ in range(n):\n",
    "        turtle.forward(x)\n",
    "        turtle.right(angle)\n",
    "for i in [3,5,7]:\n",
    "    poly(i,500/i)\n",
    "    turtle.penup()\n",
    "    turtle.right(90)\n",
    "    turtle.forward(200)\n",
    "    turtle.left(90)\n",
    "    turtle.forward(20)\n",
    "    turtle.pendown()\n",
    "turtle.done()"
   ]
  }
 ],
 "metadata": {
  "kernelspec": {
   "display_name": "Python 3",
   "language": "python",
   "name": "python3"
  },
  "language_info": {
   "codemirror_mode": {
    "name": "ipython",
    "version": 3
   },
   "file_extension": ".py",
   "mimetype": "text/x-python",
   "name": "python",
   "nbconvert_exporter": "python",
   "pygments_lexer": "ipython3",
   "version": "3.11.8"
  },
  "orig_nbformat": 4,
  "vscode": {
   "interpreter": {
    "hash": "aee8b7b246df8f9039afb4144a1f6fd8d2ca17a180786b69acc140d282b71a49"
   }
  }
 },
 "nbformat": 4,
 "nbformat_minor": 2
}
