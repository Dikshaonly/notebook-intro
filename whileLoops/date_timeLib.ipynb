{
 "cells": [
  {
   "cell_type": "code",
   "execution_count": 4,
   "metadata": {},
   "outputs": [
    {
     "name": "stdout",
     "output_type": "stream",
     "text": [
      "23102024 -> 5\n"
     ]
    }
   ],
   "source": [
    "import datetime\n",
    "def sum_digits(x):\n",
    "    acc = 0\n",
    "    while x>0:\n",
    "        acc+=x%10\n",
    "        x = x//10\n",
    "    return acc\n",
    "def magic_number(x):\n",
    "    while x>10:\n",
    "        x = sum_digits(x)\n",
    "    return x\n",
    "now = datetime.datetime.now()\n",
    "\n",
    "number_date = now.day*1000000+now.month*10000+now.year\n",
    "print(number_date, '->', magic_number(number_date))\n"
   ]
  }
 ],
 "metadata": {
  "kernelspec": {
   "display_name": "Python 3",
   "language": "python",
   "name": "python3"
  },
  "language_info": {
   "codemirror_mode": {
    "name": "ipython",
    "version": 3
   },
   "file_extension": ".py",
   "mimetype": "text/x-python",
   "name": "python",
   "nbconvert_exporter": "python",
   "pygments_lexer": "ipython3",
   "version": "3.11.8"
  },
  "orig_nbformat": 4,
  "vscode": {
   "interpreter": {
    "hash": "aee8b7b246df8f9039afb4144a1f6fd8d2ca17a180786b69acc140d282b71a49"
   }
  }
 },
 "nbformat": 4,
 "nbformat_minor": 2
}
