{
 "cells": [
  {
   "cell_type": "code",
   "execution_count": 1,
   "metadata": {},
   "outputs": [
    {
     "name": "stdout",
     "output_type": "stream",
     "text": [
      "Calling fib(3)\n",
      "Calling fib(2)\n",
      "Calling fib(1)\n",
      "fib(1) returns 1\n",
      "Calling fib(0)\n",
      "fib(0) returns 1\n",
      "fib(2) returns 2=1+1\n",
      "Calling fib(1)\n",
      "fib(1) returns 1\n",
      "fib(3) returns 3=2+1\n"
     ]
    },
    {
     "data": {
      "text/plain": [
       "3"
      ]
     },
     "execution_count": 1,
     "metadata": {},
     "output_type": "execute_result"
    }
   ],
   "source": [
    "def fib(n):\n",
    "    print(f'Calling fib({n})')\n",
    "    if n<=1:\n",
    "        print(f'fib({n}) returns 1')\n",
    "        return 1\n",
    "    else:\n",
    "        f1 = fib(n-1)\n",
    "        f2 = fib(n-2)\n",
    "        print(f'fib({n}) returns {f1+f2}={f1}+{f2}')\n",
    "        return f1+f2 \n",
    "    \n",
    "fib(3)"
   ]
  }
 ],
 "metadata": {
  "kernelspec": {
   "display_name": "Python 3",
   "language": "python",
   "name": "python3"
  },
  "language_info": {
   "codemirror_mode": {
    "name": "ipython",
    "version": 3
   },
   "file_extension": ".py",
   "mimetype": "text/x-python",
   "name": "python",
   "nbconvert_exporter": "python",
   "pygments_lexer": "ipython3",
   "version": "3.11.8"
  },
  "orig_nbformat": 4,
  "vscode": {
   "interpreter": {
    "hash": "aee8b7b246df8f9039afb4144a1f6fd8d2ca17a180786b69acc140d282b71a49"
   }
  }
 },
 "nbformat": 4,
 "nbformat_minor": 2
}
